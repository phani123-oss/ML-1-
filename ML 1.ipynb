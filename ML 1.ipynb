{
 "cells": [
  {
   "cell_type": "markdown",
   "id": "c85f99b1-a6ed-44e9-8f7e-8694802dd67a",
   "metadata": {},
   "source": [
    "QD- E=plain thK followin* with an K=amplK-F\n",
    "C) Artificial IntKlli*KncJ\n",
    "<) MachinK LKarnin,\n",
    "I) DKKp LKarning"
   ]
  },
  {
   "cell_type": "markdown",
   "id": "326ee907-d028-4771-826c-51bf3c111175",
   "metadata": {},
   "source": [
    "1. Artificial intelligence : It is a smart applicatorm that can perform its own task \n",
    "\n",
    "with out any human intervention.\n",
    "\n",
    "Ex: self driving cars  Robots ...\n",
    "\n",
    "2.Machine learning : Which is subset of AI it gives stats model to analyse, learn ,visualise\n",
    "\n",
    "and develop predictive models from data.\n",
    "\n",
    "Ex : Regression ,classification application\n",
    "\n",
    "Deep Learning : Minimic human brain {multi layered neural network}.\n",
    "\n",
    "Ex: object detection,ChatGpt,recommondation system using DL."
   ]
  },
  {
   "cell_type": "markdown",
   "id": "05c1390b-5fe6-48b2-90cf-1ec33d74a664",
   "metadata": {},
   "source": [
    "Q2- What is supKrvisKd lKarnin*? List somK K=amplKs of supKrvisKd lKarnin*.\n",
    "\n",
    "This is one of the type of machine learing . in this we have to solve different types of problems\n",
    "\n",
    "1.Classification problem.\n",
    "\n",
    "2.Regression problem .\n",
    "\n",
    "In this type we have specific output for our data and entire model is trained to get predict\n",
    "\n",
    "the output.\n",
    "\n",
    "Ex : In classification problem the output is catagegorical feature i.e., output is of fixed size.\n",
    "\n",
    "In regression problem output is of continuous feature."
   ]
  },
  {
   "cell_type": "markdown",
   "id": "ec765b52-2e48-4abc-afaa-5818ab11cb5d",
   "metadata": {},
   "source": [
    "Q3- GWhat is unsupKrvisKd lKarnin*? List somK K=amplKs of unsupKrvisKd lKarnin*.\n",
    "\n",
    "This is one of the type of machine learning. In this we don't have a specific output as such we have a \n",
    "\n",
    "dataset .For that dataset we need to form clusters or similar groups.\n",
    "\n",
    "Ex: customer segmentation.\n",
    "\n",
    "Anomaly detection"
   ]
  },
  {
   "cell_type": "markdown",
   "id": "0d2d7b76-ed55-477f-a0c4-b2a902cc1567",
   "metadata": {},
   "source": [
    "Q4- What is thK diffKrKncK bKtwKKn AI, ML, DL, and DS?\n",
    "\n",
    "AI is a smart applications to perfom tasks without any human intervention.\n",
    "\n",
    "ML is a subset of AI that involves training algorithims to built models.\n",
    "\n",
    "DL is a subset of Ml that uses ANN models to find patterns in complex problems.\n",
    "\n",
    "DS it deals with all i.e., AI , ML ,DL."
   ]
  },
  {
   "cell_type": "markdown",
   "id": "27e4b192-a085-4791-b461-d565e656902f",
   "metadata": {},
   "source": [
    "Difference:\n",
    "\n",
    "\n",
    "The main distinction between the two approaches is the use of labeled datasets.\n",
    "\n",
    "To put it simply, supervised learning uses labeled input and output data, while an unsupervised learning algorithm does not."
   ]
  },
  {
   "cell_type": "markdown",
   "id": "ff5f8b01-e445-4b5b-9f79-c599374d122c",
   "metadata": {},
   "source": [
    "Q6- What is train, tKst and validation split? E=plain thK importancK of Kach tKrm.\n",
    "\n",
    "Data set can be divided into 3 types:\n",
    "\n",
    "Trainign dats set: We will train the model using this.\n",
    "\n",
    "validation data set : Hyper parameter tunning of the model we specifically use validation data set.\n",
    "\n",
    "Test data set : Test the model , we see how this model work w.r.t accuracy."
   ]
  },
  {
   "cell_type": "markdown",
   "id": "72ed3290-a88f-4432-a49c-c06eeaae72aa",
   "metadata": {},
   "source": [
    "How can unsupervised learning be used in anomaly detection?\n",
    "\n",
    "Anomaly detection techniques of unsupervised nature assume that normal data points occur considerably more frequently \n",
    "\n",
    "than anomalous data points. This assumption is used to classify data points that occur less frequently as anomalies. \n",
    "\n",
    "Unsupervised techniques assign each data point a score instead of a label."
   ]
  },
  {
   "cell_type": "markdown",
   "id": "3cf00705-cc59-4060-b611-5dd1bef2622e",
   "metadata": {},
   "source": [
    "The most commonly used Supervised Learning algorithms are decision tree, logistic regression, linear regression, support vector machine.\n",
    "\n",
    "The most commonly used Unsupervised Learning algorithms are k-means clustering, hierarchical clustering, and apriori algorithm."
   ]
  },
  {
   "cell_type": "code",
   "execution_count": null,
   "id": "cab1f2da-66c8-4c77-bc76-464d8683d9b2",
   "metadata": {},
   "outputs": [],
   "source": []
  }
 ],
 "metadata": {
  "kernelspec": {
   "display_name": "Python 3 (ipykernel)",
   "language": "python",
   "name": "python3"
  },
  "language_info": {
   "codemirror_mode": {
    "name": "ipython",
    "version": 3
   },
   "file_extension": ".py",
   "mimetype": "text/x-python",
   "name": "python",
   "nbconvert_exporter": "python",
   "pygments_lexer": "ipython3",
   "version": "3.10.8"
  }
 },
 "nbformat": 4,
 "nbformat_minor": 5
}
